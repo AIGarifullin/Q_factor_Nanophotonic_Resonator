{
 "cells": [
  {
   "cell_type": "markdown",
   "metadata": {},
   "source": [
    "# Tutorial on MEEP simulation run with phcr-cavity.py\n",
    "The tutorial is based on __[documentation example](https://meep.readthedocs.io/en/latest/Python_Tutorials/Resonant_Modes_and_Transmission_in_a_Waveguide_Cavity/)__. \n",
    "\n",
    "To run the simulation we have to address the python translator by running system command with <b>!</b> symbol. \n",
    "\n",
    "We run simulation code <b>phcr-cavity.py</b>\n",
    "\n",
    "The console output is saved at <b>Output.txt</b>"
   ]
  },
  {
   "cell_type": "code",
   "execution_count": 152,
   "metadata": {},
   "outputs": [
    {
     "data": {
      "image/png": "[encoded data removed]",
      "text/plain": [
       "<Figure size 432x288 with 1 Axes>"
      ]
     },
     "metadata": {
      "needs_background": "light"
     },
     "output_type": "display_data"
    }
   ],
   "source": [
    "from subprocess import call\n",
    "import numpy as np\n",
    "import matplotlib.pyplot as plt\n",
    "import math as mt\n",
    "\n",
    "simfileName ='freq_real_7.dat'\n",
    "fileNameNorm_disp = 'dispersion_relations_7.dat'\n",
    "fileNameNorm_w = 'Omega.dat'\n",
    "\n",
    "#simfileName_d ='Output-defect-ph-cav-pixel-avg.txt'\n",
    "#fileNameNorm_d = 'flux-defect-cavity-Q-factor-pixelAvg.dat'\n",
    "\n",
    "ex_str_n =f'grep freqs: {simfileName}  | cut -d , -f3,6- > {fileNameNorm_disp}'\n",
    "ex_str_w =f'grep freqs: {simfileName}  | cut -d , -f6-  > {fileNameNorm_w}'\n",
    "\n",
    "call(ex_str_n, shell=\"True\")\n",
    "call(ex_str_w, shell=\"True\")\n",
    "\n",
    "wl = 0.880e-6       # wavelength of light (in micrometer) for 4_F_3/2 - 4_I_9/2 transition\n",
    "a = 0.352*wl     # nonperturbed lattice constant of the PC (in micrometer)\n",
    "# c = 3e8           \n",
    "# g = 2*mt.pi/a\n",
    "c = 1\n",
    "g = 1\n",
    "\n",
    "k_x = np.genfromtxt(fileNameNorm_disp, delimiter=\",\",filling_values=0,usecols = (0))\n",
    "\n",
    "omega = [ (0,0), \n",
    " (0,0.0193882518647376),\n",
    " (0,0), \n",
    " (0.057514800019827596, 0.07503647722950806),\n",
    " (0.10001613129928076,0),\n",
    " (0.04434204556998608, 0.12502707766041027),\n",
    " (0.15002866364991682,0),\n",
    " (0.17503998003103716,0),\n",
    " (0.20005093894239273,0),\n",
    " (0.22505824095478677,0),\n",
    " (0.250055081716555,0),\n",
    " (0.2750410497539292,0),\n",
    " (0.30000850339105406,0),\n",
    " (0.3249496212157027,0),\n",
    " (0.3498536847948624,0),\n",
    " (0.3747057585183726,0),\n",
    " (0.3994856030589304,0),\n",
    " (0.42416336399619675,0),\n",
    " (0.4487010459164542,0),\n",
    " (0.4730479983632071,0),\n",
    " (0.49713759495077947,0)]\n",
    "\n",
    "omega = [[i*g*c for i in j] for j in omega]\n",
    "\n",
    "# print(\"kx=\",k_x)\n",
    "#print(\"omega=\",omega)\n",
    "N = 500\n",
    "\n",
    "k = np.linspace(0.01,0.5*g,N)\n",
    "omega_light_line = c*k\n",
    "\n",
    "\n",
    "fig = plt.figure()\n",
    "ax = fig.add_subplot()\n",
    "\n",
    "colors = np.array([\"red\",\"green\",\"blue\",\"yellow\",\"pink\",\"black\",\"orange\",\"purple\",\"beige\",\"brown\",\"gray\",\"cyan\",\"magenta\"])\n",
    "\n",
    "for x, y in zip(k_x, omega):\n",
    "    ax.scatter([x] * len(y), y, s=10, facecolors='none', edgecolors=colors)\n",
    "\n",
    "plt.grid(linestyle='--', linewidth=2)\n",
    "ax.plot(k/g, omega_light_line, color = 'green', linewidth = 3, linestyle = '--', label='Light line')\n",
    "plt.xticks(ticks=[0,0.1,0.2,0.3,0.4,0.5])\n",
    "plt.xlabel(\"Wave vector, $k_x$a/2$\\pi$, a.u.\")\n",
    "plt.ylabel(\"Frequency, $\\omega$a/2$\\pi$c a.u.\")\n",
    "plt.show()\n",
    "\n",
    "# ax.set_yscale('log')\n",
    "# ax.plot(dist,SKwithDSB,color=black_1,label='No dispersion compensation')\n",
    "# ax.plot(dist,SKwithDSBDC,color=red_1,label='With dispersion compensation')\n",
    "# ax.plot(dist,SKwithDSBHalf,color=green_1,label='Only right sidebands are detected')\n",
    "# plt.yticks(ticks=[1,10,100,1000])\n",
    "# ax.set_ylim(bottom=0.1)\n",
    "# plt.legend()\n",
    "# plt.tight_layout()\n",
    "# plt.savefig(\"Plots/Referee-reply-Fig.pdf\")"
   ]
  },
  {
   "cell_type": "code",
   "execution_count": 8,
   "metadata": {},
   "outputs": [],
   "source": [
    "! grep freqs-im: Output_band_diagram.txt > freq_imag.dat"
   ]
  },
  {
   "cell_type": "code",
   "execution_count": 150,
   "metadata": {},
   "outputs": [],
   "source": [
    "! grep freqs: Output_band_diagram_7.txt > freq_real_7.dat"
   ]
  },
  {
   "cell_type": "code",
   "execution_count": 1,
   "metadata": {},
   "outputs": [],
   "source": [
    "! mpirun -np 16 python phcr-cavity_band_diag_sim.py -defect false > Output_band_diagram_8.txt"
   ]
  },
  {
   "cell_type": "code",
   "execution_count": null,
   "metadata": {},
   "outputs": [],
   "source": [
    "! mpirun -np 16 python phcr-cavity_sim.py -defect false -r false -pixavg true > Output-norm-ph-cav-flux-pixel-avg.txt"
   ]
  },
  {
   "cell_type": "code",
   "execution_count": null,
   "metadata": {},
   "outputs": [],
   "source": [
    "! mpirun -np 16 python phcr-cavity_sim.py -defect true -r false -pixavg true > Output-defect-ph-cav-flux-pixel-avg.txt"
   ]
  },
  {
   "cell_type": "code",
   "execution_count": null,
   "metadata": {},
   "outputs": [],
   "source": [
    "! mpirun -np 16 python phcr-cavity_sim.py -defect true -r true -pixavg true > Output-defect-ph-cav-Q-factor-pixel-avg.txt"
   ]
  },
  {
   "cell_type": "code",
   "execution_count": 77,
   "metadata": {},
   "outputs": [],
   "source": [
    "! mpirun -np 10 python phcr-cavity_sim.py -defect true -r true > Output-defect-ph-cav-Q-factor.txt"
   ]
  },
  {
   "cell_type": "code",
   "execution_count": 18,
   "metadata": {},
   "outputs": [],
   "source": [
    "! mpirun -np 10 python phcr-cavity_sim.py -defect true > Output-defect-ph-cav-transmission.txt"
   ]
  },
  {
   "cell_type": "code",
   "execution_count": 17,
   "metadata": {},
   "outputs": [],
   "source": [
    "! mpirun -np 10 python phcr-cavity_sim.py -defect false > Output-norm-ph-cav-transmission.txt"
   ]
  },
  {
   "cell_type": "code",
   "execution_count": null,
   "metadata": {},
   "outputs": [
    {
     "name": "stdout",
     "output_type": "stream",
     "text": [
      "Using MPI version 3.1, 1 processes\n",
      "-----------\n",
      "Initializing structure...\n",
      "time for choose_chunkdivision = 0.000907898 s\n",
      "Working in 3D dimensions.\n",
      "Computational cell is 16.1 x 6 x 6 with resolution 20\n",
      "     prism, center = (0,0,0.129862)\n",
      "          height 12.2654, axis (1,0,0), sidewall angle: 0 radians, 3 vertices:\n",
      "          (-6.13272,0,0)\n",
      "          (-6.13272,0.112464,0.194793)\n",
      "          (-6.13272,-0.112464,0.194793)\n",
      "          dielectric constant epsilon diagonal = (4.84,4.84,4.84)\n",
      "     prism, center = (0,0,0.432874)\n",
      "          height 0.12496, axis (1,0,0), sidewall angle: 0 radians, 3 vertices:\n",
      "          (-0.06248,0,0)\n",
      "          (-0.06248,0.37488,0.649311)\n",
      "          (-0.06248,-0.37488,0.649311)\n",
      "          dielectric constant epsilon diagonal = (4.84,4.84,4.84)\n",
      "     prism, center = (0.30976,0,0.432874)\n",
      "          height 0.12496, axis (1,0,0), sidewall angle: 0 radians, 3 vertices:\n",
      "          (0.24728,0,0)\n",
      "          (0.24728,0.37488,0.649311)\n",
      "          (0.24728,-0.37488,0.649311)\n",
      "          dielectric constant epsilon diagonal = (4.84,4.84,4.84)\n",
      "     prism, center = (-0.30976,0,0.432874)\n",
      "          height 0.12496, axis (1,0,0), sidewall angle: 0 radians, 3 vertices:\n",
      "          (-0.37224,0,0)\n",
      "          (-0.37224,0.37488,0.649311)\n",
      "          (-0.37224,-0.37488,0.649311)\n",
      "          dielectric constant epsilon diagonal = (4.84,4.84,4.84)\n",
      "     prism, center = (0.61952,0,0.432874)\n",
      "          height 0.12496, axis (1,0,0), sidewall angle: 0 radians, 3 vertices:\n",
      "          (0.55704,0,0)\n",
      "          (0.55704,0.37488,0.649311)\n",
      "          (0.55704,-0.37488,0.649311)\n",
      "          dielectric constant epsilon diagonal = (4.84,4.84,4.84)\n",
      "     prism, center = (-0.61952,0,0.432874)\n",
      "          height 0.12496, axis (1,0,0), sidewall angle: 0 radians, 3 vertices:\n",
      "          (-0.682,0,0)\n",
      "          (-0.682,0.37488,0.649311)\n",
      "          (-0.682,-0.37488,0.649311)\n",
      "          dielectric constant epsilon diagonal = (4.84,4.84,4.84)\n",
      "     prism, center = (0.92928,0,0.432874)\n",
      "          height 0.12496, axis (1,0,0), sidewall angle: 0 radians, 3 vertices:\n",
      "          (0.8668,0,0)\n",
      "          (0.8668,0.37488,0.649311)\n",
      "          (0.8668,-0.37488,0.649311)\n",
      "          dielectric constant epsilon diagonal = (4.84,4.84,4.84)\n",
      "     prism, center = (-0.92928,0,0.432874)\n",
      "          height 0.12496, axis (1,0,0), sidewall angle: 0 radians, 3 vertices:\n",
      "          (-0.99176,0,0)\n",
      "          (-0.99176,0.37488,0.649311)\n",
      "          (-0.99176,-0.37488,0.649311)\n",
      "          dielectric constant epsilon diagonal = (4.84,4.84,4.84)\n",
      "     prism, center = (1.23904,0,0.432874)\n",
      "          height 0.12496, axis (1,0,0), sidewall angle: 0 radians, 3 vertices:\n",
      "          (1.17656,0,0)\n",
      "          (1.17656,0.37488,0.649311)\n",
      "          (1.17656,-0.37488,0.649311)\n",
      "          dielectric constant epsilon diagonal = (4.84,4.84,4.84)\n",
      "     prism, center = (-1.23904,0,0.432874)\n",
      "          height 0.12496, axis (1,0,0), sidewall angle: 0 radians, 3 vertices:\n",
      "          (-1.30152,0,0)\n",
      "          (-1.30152,0.37488,0.649311)\n",
      "          (-1.30152,-0.37488,0.649311)\n",
      "          dielectric constant epsilon diagonal = (4.84,4.84,4.84)\n",
      "     ...(+ 32 objects not shown)...\n",
      "time for set_epsilon = 3.61723 s\n",
      "-----------\n",
      "creating output file \"./phcr-cavity_sim-eps-000000.00.h5\"...\n",
      "creating output file \"./phcr-cavity_sim-ey-slice.h5\"...\n",
      "on time step 1 (time=0.025), 10.206 s/step\n",
      "on time step 16 (time=0.4), 0.346382 s/step\n",
      "on time step 32 (time=0.8), 0.34019 s/step\n",
      "on time step 48 (time=1.2), 0.331899 s/step\n",
      "on time step 64 (time=1.6), 0.32357 s/step\n",
      "on time step 80 (time=2), 0.334761 s/step\n",
      "on time step 96 (time=2.4), 0.321274 s/step\n",
      "on time step 112 (time=2.8), 0.324389 s/step\n",
      "on time step 128 (time=3.2), 0.320441 s/step\n",
      "on time step 144 (time=3.6), 0.331495 s/step\n",
      "on time step 160 (time=4), 0.332482 s/step\n",
      "on time step 176 (time=4.4), 0.332585 s/step\n",
      "on time step 192 (time=4.8), 0.332406 s/step\n",
      "on time step 208 (time=5.2), 0.335781 s/step\n",
      "on time step 224 (time=5.6), 0.332243 s/step\n",
      "on time step 240 (time=6), 0.320944 s/step\n",
      "on time step 256 (time=6.4), 0.332424 s/step\n",
      "on time step 272 (time=6.8), 0.33216 s/step\n",
      "on time step 288 (time=7.2), 0.336336 s/step\n",
      "on time step 304 (time=7.6), 0.324784 s/step\n",
      "on time step 320 (time=8), 0.331819 s/step\n",
      "on time step 336 (time=8.4), 0.320829 s/step\n"
     ]
    }
   ],
   "source": [
    "! python phcr-cavity_sim.py -defect false"
   ]
  },
  {
   "cell_type": "markdown",
   "metadata": {},
   "source": [
    "For optional parallel run on several core we use mpi.\n",
    "\n",
    "We may execute  <b>mpirun -np 6 </b>  routine for running the code with 6 cores:"
   ]
  },
  {
   "cell_type": "code",
   "execution_count": null,
   "metadata": {},
   "outputs": [],
   "source": [
    "! mpirun -np 6 python phcr-cavity.py > Output-Parallel-6.txt"
   ]
  },
  {
   "cell_type": "code",
   "execution_count": null,
   "metadata": {},
   "outputs": [],
   "source": [
    "! mpirun -np 6 python phcr-cavity_sim.py > Output-Parallel-6.txt"
   ]
  },
  {
   "cell_type": "markdown",
   "metadata": {},
   "source": [
    "# Visualize the simulation results\n",
    "The results of simulation (electric and magnetic vectors and given times) can be saved in h5 file. To look at them we can use program <b>h5topng</b>\n",
    "\n",
    "First we visualize the structure for simulation, which is stored in <b>phcr-cavity-eps-000000.00.h5</b> by executing the following command:"
   ]
  },
  {
   "cell_type": "code",
   "execution_count": 119,
   "metadata": {},
   "outputs": [],
   "source": [
    "! rm Omega.dat"
   ]
  },
  {
   "cell_type": "code",
   "execution_count": 120,
   "metadata": {},
   "outputs": [],
   "source": [
    "! rm freq*.dat"
   ]
  },
  {
   "cell_type": "code",
   "execution_count": 121,
   "metadata": {},
   "outputs": [],
   "source": [
    "! rm dispersion*.dat"
   ]
  },
  {
   "cell_type": "code",
   "execution_count": 144,
   "metadata": {},
   "outputs": [],
   "source": [
    "! rm phcr*.png"
   ]
  },
  {
   "cell_type": "code",
   "execution_count": 4,
   "metadata": {},
   "outputs": [],
   "source": [
    "! h5topng -S 6 -y 55:65 create_geometry_v3-eps-000000.00.h5 "
   ]
  },
  {
   "cell_type": "code",
   "execution_count": 3,
   "metadata": {},
   "outputs": [],
   "source": [
    "! h5topng -S 6 -z phcr-cavity_sim-eps-000000.00.h5"
   ]
  },
  {
   "cell_type": "code",
   "execution_count": 142,
   "metadata": {},
   "outputs": [],
   "source": [
    "! h5topng -S 6 -z 59:72 phcr-cavity_band_diag_sim-eps-000000.00.h5"
   ]
  },
  {
   "cell_type": "code",
   "execution_count": 141,
   "metadata": {},
   "outputs": [],
   "source": [
    "! h5topng -S 6 -y 57:62 phcr-cavity_band_diag_sim-eps-000000.00.h5"
   ]
  },
  {
   "cell_type": "code",
   "execution_count": 133,
   "metadata": {},
   "outputs": [],
   "source": [
    "! h5topng -S 6 -x 0:5 phcr-cavity_band_diag_sim-eps-000000.00.h5"
   ]
  },
  {
   "cell_type": "markdown",
   "metadata": {},
   "source": [
    "The result is <b>phcr-cavity-eps-000000.00.png</b>"
   ]
  },
  {
   "cell_type": "markdown",
   "metadata": {},
   "source": [
    "The dynamics of the field during simulation can be visualized as an image series combined into a single video."
   ]
  },
  {
   "cell_type": "markdown",
   "metadata": {},
   "source": [
    "First we need to make a series of png frames  from h5 file by a following command:\n",
    "```Bash\n",
    "! h5topng -t 1:100 -S2 -Zc  dkbluered -a yarg -A phcr-cavity-eps-000000.00.h5 phcr-cavity-hz-slice.h5\n",
    "```\n",
    "\n",
    "For normal PC structure, then for a defected PC"
   ]
  },
  {
   "cell_type": "code",
   "execution_count": 24,
   "metadata": {},
   "outputs": [
    {
     "name": "stdout",
     "output_type": "stream",
     "text": [
      "h5topng error: invalid slice of HDF5 data\n"
     ]
    }
   ],
   "source": [
    "! h5topng -t 1:500 -z 70 -S2 -Zc  dkbluered -a yarg -A norm-phcr-cavity_sim-eps-000000.00.h5 norm-phcr-cavity_sim-ey-slice.h5"
   ]
  },
  {
   "cell_type": "code",
   "execution_count": 31,
   "metadata": {},
   "outputs": [
    {
     "name": "stdout",
     "output_type": "stream",
     "text": [
      "h5topng error: invalid slice of HDF5 data\n"
     ]
    }
   ],
   "source": [
    "! h5topng -t 1:500 -z 70 -S2 -Zc  dkbluered -a yarg -A phcr-cavity-defect_sim-eps-000000.00.h5 phcr-cavity-defect_sim-ey-slice.h5 "
   ]
  },
  {
   "cell_type": "markdown",
   "metadata": {},
   "source": [
    "# Let's convert all files into the video file video.mp4 and remove images"
   ]
  },
  {
   "cell_type": "code",
   "execution_count": 25,
   "metadata": {},
   "outputs": [
    {
     "name": "stdout",
     "output_type": "stream",
     "text": [
      "ffmpeg version 4.2.3 Copyright (c) 2000-2020 the FFmpeg developers\n",
      "  built with gcc 7.5.0 (crosstool-NG 1.24.0.123_1667d2b)\n",
      "  configuration: --prefix=/home/cloud-user/anaconda3/envs/pmp --cc=/home/conda/feedstock_root/build_artifacts/ffmpeg_1590573566052/_build_env/bin/x86_64-conda_cos6-linux-gnu-cc --disable-doc --disable-openssl --enable-avresample --enable-gnutls --enable-gpl --enable-hardcoded-tables --enable-libfreetype --enable-libopenh264 --enable-libx264 --enable-pic --enable-pthreads --enable-shared --enable-static --enable-version3 --enable-zlib --enable-libmp3lame\n",
      "  libavutil      56. 31.100 / 56. 31.100\n",
      "  libavcodec     58. 54.100 / 58. 54.100\n",
      "  libavformat    58. 29.100 / 58. 29.100\n",
      "  libavdevice    58.  8.100 / 58.  8.100\n",
      "  libavfilter     7. 57.100 /  7. 57.100\n",
      "  libavresample   4.  0.  0 /  4.  0.  0\n",
      "  libswscale      5.  5.100 /  5.  5.100\n",
      "  libswresample   3.  5.100 /  3.  5.100\n",
      "  libpostproc    55.  5.100 / 55.  5.100\n",
      "Input #0, image2, from 'norm-phcr-cavity_sim-ey-slice.t%03d.png':\n",
      "  Duration: 00:00:04.92, start: 0.000000, bitrate: N/A\n",
      "    Stream #0:0: Video: png, rgb24(pc), 644x240, 25 fps, 25 tbr, 25 tbn, 25 tbc\n",
      "Stream mapping:\n",
      "  Stream #0:0 -> #0:0 (png (native) -> h264 (libx264))\n",
      "Press [q] to stop, [?] for help\n",
      "\u001b[1;36m[libx264 @ 0x556ba123d040] \u001b[0musing cpu capabilities: MMX2 SSE2Fast SSSE3 SSE4.2\n",
      "\u001b[1;36m[libx264 @ 0x556ba123d040] \u001b[0mprofile High, level 2.1\n",
      "\u001b[1;36m[libx264 @ 0x556ba123d040] \u001b[0m264 - core 152 - H.264/MPEG-4 AVC codec - Copyleft 2003-2017 - http://www.videolan.org/x264.html - options: cabac=1 ref=3 deblock=1:0:0 analyse=0x3:0x113 me=hex subme=7 psy=1 psy_rd=1.00:0.00 mixed_ref=1 me_range=16 chroma_me=1 trellis=1 8x8dct=1 cqm=0 deadzone=21,11 fast_pskip=1 chroma_qp_offset=-2 threads=7 lookahead_threads=1 sliced_threads=0 nr=0 decimate=1 interlaced=0 bluray_compat=0 constrained_intra=0 bframes=3 b_pyramid=2 b_adapt=1 b_bias=0 direct=1 weightb=1 open_gop=0 weightp=2 keyint=250 keyint_min=10 scenecut=40 intra_refresh=0 rc_lookahead=40 rc=crf mbtree=1 crf=23.0 qcomp=0.60 qpmin=0 qpmax=69 qpstep=4 ip_ratio=1.40 aq=1:1.00\n",
      "Output #0, mp4, to 'video-normal-ph-cav.mp4':\n",
      "  Metadata:\n",
      "    encoder         : Lavf58.29.100\n",
      "    Stream #0:0: Video: h264 (libx264) (avc1 / 0x31637661), yuv420p, 644x240, q=-1--1, 10 fps, 10240 tbn, 10 tbc\n",
      "    Metadata:\n",
      "      encoder         : Lavc58.54.100 libx264\n",
      "    Side data:\n",
      "      cpb: bitrate max/min/avg: 0/0/0 buffer size: 0 vbv_delay: -1\n",
      "frame=   51 fps=0.0 q=-1.0 Lsize=      90kB time=00:00:04.80 bitrate= 154.0kbits/s dup=0 drop=72 speed=14.2x    \n",
      "video:89kB audio:0kB subtitle:0kB other streams:0kB global headers:0kB muxing overhead: 1.587057%\n",
      "\u001b[1;36m[libx264 @ 0x556ba123d040] \u001b[0mframe I:2     Avg QP:15.54  size:  5240\n",
      "\u001b[1;36m[libx264 @ 0x556ba123d040] \u001b[0mframe P:13    Avg QP:17.35  size:  2411\n",
      "\u001b[1;36m[libx264 @ 0x556ba123d040] \u001b[0mframe B:36    Avg QP:18.09  size:  1347\n",
      "\u001b[1;36m[libx264 @ 0x556ba123d040] \u001b[0mconsecutive B-frames:  3.9%  3.9%  5.9% 86.3%\n",
      "\u001b[1;36m[libx264 @ 0x556ba123d040] \u001b[0mmb I  I16..4: 22.8% 60.7% 16.5%\n",
      "\u001b[1;36m[libx264 @ 0x556ba123d040] \u001b[0mmb P  I16..4:  2.5% 17.7%  0.9%  P16..4: 22.8%  7.7%  3.9%  0.0%  0.0%    skip:44.4%\n",
      "\u001b[1;36m[libx264 @ 0x556ba123d040] \u001b[0mmb B  I16..4:  0.5%  2.2%  0.3%  B16..8: 20.3%  4.7%  0.9%  direct: 4.0%  skip:67.0%  L0:59.2% L1:36.2% BI: 4.6%\n",
      "\u001b[1;36m[libx264 @ 0x556ba123d040] \u001b[0m8x8 transform intra:73.9% inter:93.5%\n",
      "\u001b[1;36m[libx264 @ 0x556ba123d040] \u001b[0mcoded y,uvDC,uvAC intra: 42.6% 69.0% 44.0% inter: 10.2% 17.4% 3.2%\n",
      "\u001b[1;36m[libx264 @ 0x556ba123d040] \u001b[0mi16 v,h,dc,p: 74%  7% 14%  4%\n",
      "\u001b[1;36m[libx264 @ 0x556ba123d040] \u001b[0mi8 v,h,dc,ddl,ddr,vr,hd,vl,hu: 40%  7% 14%  5%  7% 12%  3% 11%  3%\n",
      "\u001b[1;36m[libx264 @ 0x556ba123d040] \u001b[0mi4 v,h,dc,ddl,ddr,vr,hd,vl,hu: 56% 10% 10%  2%  6%  8%  3%  5%  2%\n",
      "\u001b[1;36m[libx264 @ 0x556ba123d040] \u001b[0mi8c dc,h,v,p: 50%  7% 34%  9%\n",
      "\u001b[1;36m[libx264 @ 0x556ba123d040] \u001b[0mWeighted P-Frames: Y:15.4% UV:7.7%\n",
      "\u001b[1;36m[libx264 @ 0x556ba123d040] \u001b[0mref P L0: 43.0%  8.5% 17.0% 25.0%  6.4%\n",
      "\u001b[1;36m[libx264 @ 0x556ba123d040] \u001b[0mref B L0: 73.0% 20.9%  6.1%\n",
      "\u001b[1;36m[libx264 @ 0x556ba123d040] \u001b[0mref B L1: 93.0%  7.0%\n",
      "\u001b[1;36m[libx264 @ 0x556ba123d040] \u001b[0mkb/s:141.66\n"
     ]
    }
   ],
   "source": [
    "! ffmpeg -y  -start_number 01 -i norm-phcr-cavity_sim-ey-slice.t%03d.png -r 10 -pix_fmt yuv420p -c:a libvo_aacenc -vcodec libx264 video-normal-ph-cav.mp4 > video_out-normal-ph-cav.txt"
   ]
  },
  {
   "cell_type": "code",
   "execution_count": 32,
   "metadata": {},
   "outputs": [
    {
     "name": "stdout",
     "output_type": "stream",
     "text": [
      "ffmpeg version 4.2.3 Copyright (c) 2000-2020 the FFmpeg developers\n",
      "  built with gcc 7.5.0 (crosstool-NG 1.24.0.123_1667d2b)\n",
      "  configuration: --prefix=/home/cloud-user/anaconda3/envs/pmp --cc=/home/conda/feedstock_root/build_artifacts/ffmpeg_1590573566052/_build_env/bin/x86_64-conda_cos6-linux-gnu-cc --disable-doc --disable-openssl --enable-avresample --enable-gnutls --enable-gpl --enable-hardcoded-tables --enable-libfreetype --enable-libopenh264 --enable-libx264 --enable-pic --enable-pthreads --enable-shared --enable-static --enable-version3 --enable-zlib --enable-libmp3lame\n",
      "  libavutil      56. 31.100 / 56. 31.100\n",
      "  libavcodec     58. 54.100 / 58. 54.100\n",
      "  libavformat    58. 29.100 / 58. 29.100\n",
      "  libavdevice    58.  8.100 / 58.  8.100\n",
      "  libavfilter     7. 57.100 /  7. 57.100\n",
      "  libavresample   4.  0.  0 /  4.  0.  0\n",
      "  libswscale      5.  5.100 /  5.  5.100\n",
      "  libswresample   3.  5.100 /  3.  5.100\n",
      "  libpostproc    55.  5.100 / 55.  5.100\n",
      "Input #0, image2, from 'phcr-cavity-defect_sim-ey-slice.t%03d.png':\n",
      "  Duration: 00:00:04.92, start: 0.000000, bitrate: N/A\n",
      "    Stream #0:0: Video: png, rgb24(pc), 640x240, 25 fps, 25 tbr, 25 tbn, 25 tbc\n",
      "Stream mapping:\n",
      "  Stream #0:0 -> #0:0 (png (native) -> h264 (libx264))\n",
      "Press [q] to stop, [?] for help\n",
      "\u001b[1;36m[libx264 @ 0x5646fd473d00] \u001b[0musing cpu capabilities: MMX2 SSE2Fast SSSE3 SSE4.2\n",
      "\u001b[1;36m[libx264 @ 0x5646fd473d00] \u001b[0mprofile High, level 2.1\n",
      "\u001b[1;36m[libx264 @ 0x5646fd473d00] \u001b[0m264 - core 152 - H.264/MPEG-4 AVC codec - Copyleft 2003-2017 - http://www.videolan.org/x264.html - options: cabac=1 ref=3 deblock=1:0:0 analyse=0x3:0x113 me=hex subme=7 psy=1 psy_rd=1.00:0.00 mixed_ref=1 me_range=16 chroma_me=1 trellis=1 8x8dct=1 cqm=0 deadzone=21,11 fast_pskip=1 chroma_qp_offset=-2 threads=7 lookahead_threads=1 sliced_threads=0 nr=0 decimate=1 interlaced=0 bluray_compat=0 constrained_intra=0 bframes=3 b_pyramid=2 b_adapt=1 b_bias=0 direct=1 weightb=1 open_gop=0 weightp=2 keyint=250 keyint_min=10 scenecut=40 intra_refresh=0 rc_lookahead=40 rc=crf mbtree=1 crf=23.0 qcomp=0.60 qpmin=0 qpmax=69 qpstep=4 ip_ratio=1.40 aq=1:1.00\n",
      "Output #0, mp4, to 'video-defect-ph-cav.mp4':\n",
      "  Metadata:\n",
      "    encoder         : Lavf58.29.100\n",
      "    Stream #0:0: Video: h264 (libx264) (avc1 / 0x31637661), yuv420p, 640x240, q=-1--1, 10 fps, 10240 tbn, 10 tbc\n",
      "    Metadata:\n",
      "      encoder         : Lavc58.54.100 libx264\n",
      "    Side data:\n",
      "      cpb: bitrate max/min/avg: 0/0/0 buffer size: 0 vbv_delay: -1\n",
      "frame=   51 fps=0.0 q=-1.0 Lsize=      88kB time=00:00:04.80 bitrate= 150.7kbits/s dup=0 drop=72 speed=13.3x    \n",
      "video:87kB audio:0kB subtitle:0kB other streams:0kB global headers:0kB muxing overhead: 1.617090%\n",
      "\u001b[1;36m[libx264 @ 0x5646fd473d00] \u001b[0mframe I:1     Avg QP:13.02  size:  1555\n",
      "\u001b[1;36m[libx264 @ 0x5646fd473d00] \u001b[0mframe P:14    Avg QP:17.48  size:  2548\n",
      "\u001b[1;36m[libx264 @ 0x5646fd473d00] \u001b[0mframe B:36    Avg QP:18.08  size:  1419\n",
      "\u001b[1;36m[libx264 @ 0x5646fd473d00] \u001b[0mconsecutive B-frames:  3.9%  3.9%  5.9% 86.3%\n",
      "\u001b[1;36m[libx264 @ 0x5646fd473d00] \u001b[0mmb I  I16..4: 42.7% 43.8% 13.5%\n",
      "\u001b[1;36m[libx264 @ 0x5646fd473d00] \u001b[0mmb P  I16..4:  2.7% 19.3%  1.2%  P16..4: 25.1%  7.8%  3.4%  0.0%  0.0%    skip:40.4%\n",
      "\u001b[1;36m[libx264 @ 0x5646fd473d00] \u001b[0mmb B  I16..4:  0.5%  1.9%  0.3%  B16..8: 21.2%  5.4%  1.1%  direct: 4.0%  skip:65.7%  L0:62.5% L1:32.9% BI: 4.5%\n",
      "\u001b[1;36m[libx264 @ 0x5646fd473d00] \u001b[0m8x8 transform intra:73.3% inter:94.4%\n",
      "\u001b[1;36m[libx264 @ 0x5646fd473d00] \u001b[0mcoded y,uvDC,uvAC intra: 36.8% 60.5% 35.1% inter: 11.0% 17.8% 3.7%\n",
      "\u001b[1;36m[libx264 @ 0x5646fd473d00] \u001b[0mi16 v,h,dc,p: 77%  5% 15%  3%\n",
      "\u001b[1;36m[libx264 @ 0x5646fd473d00] \u001b[0mi8 v,h,dc,ddl,ddr,vr,hd,vl,hu: 40%  5% 18%  6%  8% 10%  3%  8%  2%\n",
      "\u001b[1;36m[libx264 @ 0x5646fd473d00] \u001b[0mi4 v,h,dc,ddl,ddr,vr,hd,vl,hu: 56%  8% 13%  2%  6%  6%  3%  5%  2%\n",
      "\u001b[1;36m[libx264 @ 0x5646fd473d00] \u001b[0mi8c dc,h,v,p: 56%  6% 31%  6%\n",
      "\u001b[1;36m[libx264 @ 0x5646fd473d00] \u001b[0mWeighted P-Frames: Y:28.6% UV:14.3%\n",
      "\u001b[1;36m[libx264 @ 0x5646fd473d00] \u001b[0mref P L0: 37.2%  9.1% 22.5% 22.1%  9.0%\n",
      "\u001b[1;36m[libx264 @ 0x5646fd473d00] \u001b[0mref B L0: 72.1% 20.2%  7.7%\n",
      "\u001b[1;36m[libx264 @ 0x5646fd473d00] \u001b[0mref B L1: 91.9%  8.1%\n",
      "\u001b[1;36m[libx264 @ 0x5646fd473d00] \u001b[0mkb/s:138.53\n"
     ]
    }
   ],
   "source": [
    "! ffmpeg -y  -start_number 01 -i phcr-cavity-defect_sim-ey-slice.t%03d.png -r 10 -pix_fmt yuv420p -c:a libvo_aacenc -vcodec libx264 video-defect-ph-cav.mp4 > video_out-defect-ph-cav.txt"
   ]
  },
  {
   "cell_type": "code",
   "execution_count": 27,
   "metadata": {},
   "outputs": [
    {
     "data": {
      "application/vnd.jupyter.widget-view+json": {
       "model_id": "d9405bb543004973ba1c574fdbd28aa2",
       "version_major": 2,
       "version_minor": 0
      },
      "text/plain": [
       "Video(value=b'\\x00\\x00\\x00 ftypisom\\x00\\x00\\x02\\x00isomiso2avc1mp41\\x00\\x00\\x00\\x08free\\x00\\x01csmdat\\x00\\x00\\…"
      ]
     },
     "metadata": {},
     "output_type": "display_data"
    }
   ],
   "source": [
    "from ipywidgets import Video, Image\n",
    "video = Video.from_file(\"video-normal-ph-cav.mp4\",play=True)\n",
    "video"
   ]
  },
  {
   "cell_type": "code",
   "execution_count": 34,
   "metadata": {},
   "outputs": [
    {
     "data": {
      "application/vnd.jupyter.widget-view+json": {
       "model_id": "8553190fbbbb4ce582df39e4516e2ad0",
       "version_major": 2,
       "version_minor": 0
      },
      "text/plain": [
       "Video(value=b'\\x00\\x00\\x00 ftypisom\\x00\\x00\\x02\\x00isomiso2avc1mp41\\x00\\x00\\x00\\x08free\\x00\\x01[\\xa4mdat\\x00\\x…"
      ]
     },
     "metadata": {},
     "output_type": "display_data"
    }
   ],
   "source": [
    "from ipywidgets import Video, Image\n",
    "video = Video.from_file(\"video-defect-ph-cav.mp4\",play=True)\n",
    "video"
   ]
  },
  {
   "cell_type": "code",
   "execution_count": 4,
   "metadata": {},
   "outputs": [
    {
     "data": {
      "image/png": "[encoded data removed]",
      "text/plain": [
       "<Figure size 432x288 with 1 Axes>"
      ]
     },
     "metadata": {
      "needs_background": "light"
     },
     "output_type": "display_data"
    },
    {
     "data": {
      "image/png": "[encoded data removed]",
      "text/plain": [
       "<Figure size 432x288 with 1 Axes>"
      ]
     },
     "metadata": {
      "needs_background": "light"
     },
     "output_type": "display_data"
    },
    {
     "data": {
      "image/png": "[encoded data removed]",
      "text/plain": [
       "<Figure size 432x288 with 1 Axes>"
      ]
     },
     "metadata": {
      "needs_background": "light"
     },
     "output_type": "display_data"
    },
    {
     "name": "stdout",
     "output_type": "stream",
     "text": [
      "347\n",
      "499\n",
      "499\n",
      "Quality factor of the 1D PC resonator (from the left sideband)= 861.4244791666181\n"
     ]
    }
   ],
   "source": [
    "from subprocess import call\n",
    "import numpy as np\n",
    "import matplotlib.pyplot as plt\n",
    "\n",
    "simfileName_n ='Output-norm-ph-cav-flux-pixel-avg.txt'\n",
    "fileName_n = 'flux-norm-ph-cav-pixel-avg-wl1536.dat'\n",
    "\n",
    "simfileName_d ='Output-defect-ph-cav-flux-pixel-avg.txt'\n",
    "fileName_d = 'flux-defect-ph-cav-pixel-avg-wl1536.dat'\n",
    "\n",
    "ex_str_n =f'grep flux1: {simfileName_n}  | cut -d , -f2,3- | sed 1d > {fileName_n}'\n",
    "ex_str_d =f'grep flux1: {simfileName_d}  | cut -d , -f2,3- | sed 1d > {fileName_d}'\n",
    "\n",
    "call(ex_str_n, shell=\"True\")\n",
    "call(ex_str_d, shell=\"True\")\n",
    "\n",
    "f_n = np.genfromtxt(fileName_n, delimiter=\",\")\n",
    "f_d = np.genfromtxt(fileName_d, delimiter=\",\")\n",
    "\n",
    "#print(f)\n",
    "\n",
    "#g = np.genfromtxt(\"flux-nh.dat\", delimiter=\",\")\n",
    "\n",
    "nzd_f = f_d[:,1]/f_n[:,1] # Normalized flux\n",
    "\n",
    "fig, ax = plt.subplots()\n",
    "ax.plot(1/f_n[:,0],f_n[:,1], 'b-', label='For normal PC structure')\n",
    "plt.xlabel(\"Wavelength, um\")\n",
    "plt.ylabel(\"Transmission, a.u.\")\n",
    "plt.legend()\n",
    "plt.show()\n",
    "\n",
    "fig, ax = plt.subplots()\n",
    "ax.plot(1/f_d[:,0],f_d[:,1], 'r-', label='For defect PC structure')\n",
    "plt.xlabel(\"Wavelength, um\")\n",
    "plt.ylabel(\"Transmission, a.u.\")\n",
    "plt.legend()\n",
    "plt.show()\n",
    "\n",
    "fig, ax = plt.subplots()\n",
    "ax.plot(1/f_d[:,0],nzd_f/max(nzd_f), 'c-', label='Normalized flux')\n",
    "plt.xlabel(\"Wavelength, um\")\n",
    "plt.ylabel(\"Transmission, a.u.\")\n",
    "#plt.xlim(left=0.88, right=0.94)\n",
    "plt.legend()\n",
    "plt.show()\n",
    "\n",
    "\n",
    "# Quality factor of the 1D PC resonator\n",
    "\n",
    "\n",
    "# Search of the flux's global maximum and its cell's number\n",
    "for i in range(len(nzd_f)):\n",
    "    if nzd_f[i] == max(nzd_f):\n",
    "        i = i\n",
    "        break\n",
    "    else:\n",
    "         i = i + 1\n",
    "print(i) #Cell's number of the flux's global maximum\n",
    "\n",
    "# Search of the half of the maximum flux and its cell's number (left sideband)\n",
    "for j in range(len(nzd_f)):\n",
    "    if nzd_f[j] >= 1*max(nzd_f)/2 and nzd_f[j] <= max(nzd_f)/2:\n",
    "        j = j\n",
    "        break\n",
    "    else:\n",
    "         j = j + 1\n",
    "print(j) # Cell's number of the half flux's global maximum (left sideband)\n",
    "\n",
    "# Search of the half of the maximum flux and its cell's number (right sideband)\n",
    "for k in range(len(nzd_f)):\n",
    "    if nzd_f[k] >= 1*max(nzd_f)/2 and nzd_f[k] <= max(nzd_f)/2 and k > i:\n",
    "        k = k\n",
    "        break\n",
    "    else:\n",
    "         k = k + 1\n",
    "print(k) # Cell's number of the half flux's global maximum (right sideband)\n",
    "\n",
    "w_r = f_d[i,0] # Resonance frequency\n",
    "w_s_l = f_d[i-1,0] # HWHM's left frequency\n",
    "#w_s_r = f_d[k,0] # HWHM's right frequency\n",
    "delta_w_ls = 2*(w_r - w_s_l) # FWHM (full width at half maximum) (from lef sideband) \n",
    "#delta_w_rs = -2*(w_r - w_s_r) # FWHM (full width at half maximum) (from right sideband)\n",
    "Q_ls = w_r/delta_w_ls # Quality factor of the 1D PC resonator (from left sideband)\n",
    "#Q_rs = w_r/delta_w_rs # Quality factor of the 1D PC resonator (from right sideband)\n",
    "\n",
    "print('Quality factor of the 1D PC resonator (from the left sideband)=', Q_ls) \n",
    "#print('Quality factor of the 1D PC resonator (from the right sideband)=', Q_rs)\n",
    "\n",
    "#print(w_r, w_s_l, delta_w_ls)"
   ]
  },
  {
   "cell_type": "code",
   "execution_count": 36,
   "metadata": {},
   "outputs": [
    {
     "data": {
      "text/plain": [
       "0.8725552532540507"
      ]
     },
     "execution_count": 36,
     "metadata": {},
     "output_type": "execute_result"
    }
   ],
   "source": [
    "1/0.6564744979539793"
   ]
  },
  {
   "cell_type": "code",
   "execution_count": 37,
   "metadata": {},
   "outputs": [
    {
     "data": {
      "text/plain": [
       "0.9120598801138553"
      ]
     },
     "execution_count": 37,
     "metadata": {},
     "output_type": "execute_result"
    }
   ],
   "source": [
    "1/1.096419239354292"
   ]
  },
  {
   "cell_type": "code",
   "execution_count": 14,
   "metadata": {},
   "outputs": [
    {
     "data": {
      "text/plain": [
       "0.9511747426384649"
      ]
     },
     "execution_count": 14,
     "metadata": {},
     "output_type": "execute_result"
    }
   ],
   "source": [
    "1/1.0513315326541353"
   ]
  },
  {
   "cell_type": "code",
   "execution_count": 118,
   "metadata": {},
   "outputs": [
    {
     "data": {
      "text/plain": [
       "1e+20"
      ]
     },
     "execution_count": 118,
     "metadata": {},
     "output_type": "execute_result"
    }
   ],
   "source": [
    "1e20"
   ]
  },
  {
   "cell_type": "code",
   "execution_count": 16,
   "metadata": {},
   "outputs": [
    {
     "name": "stdout",
     "output_type": "stream",
     "text": [
      "0.30976\n"
     ]
    }
   ],
   "source": [
    "wl = 0.880 \n",
    "a = 0.352*wl\n",
    "print(a)"
   ]
  }
 ],
 "metadata": {
  "kernelspec": {
   "display_name": "Python 3 (ipykernel)",
   "language": "python",
   "name": "python3"
  },
  "language_info": {
   "codemirror_mode": {
    "name": "ipython",
    "version": 3
   },
   "file_extension": ".py",
   "mimetype": "text/x-python",
   "name": "python",
   "nbconvert_exporter": "python",
   "pygments_lexer": "ipython3",
   "version": "3.7.16"
  }
 },
 "nbformat": 4,
 "nbformat_minor": 4
}
